{
 "cells": [
  {
   "cell_type": "markdown",
   "id": "647e8d79",
   "metadata": {},
   "source": [
    "# Script для сравнения шаблона и нарисованного изображения"
   ]
  },
  {
   "cell_type": "code",
   "execution_count": null,
   "id": "e2fc9b3f",
   "metadata": {},
   "outputs": [],
   "source": [
    "import cv2\n",
    "import numpy as np\n",
    "\n",
    "# Загрузка изображения рисунка и шаблона\n",
    "image = cv2.imread('0.jpg')  # Путь к вашему изображению рисунка\n",
    "template = cv2.imread('template_fish.jpg')  # Путь к вашему изображению шаблона\n",
    "\n",
    "# Преобразование изображений в оттенки серого\n",
    "gray_image = cv2.cvtColor(image, cv2.COLOR_BGR2GRAY)\n",
    "gray_template = cv2.cvtColor(template, cv2.COLOR_BGR2GRAY)\n",
    "\n",
    "# Создание маски изображения рисунка и шаблона\n",
    "_, drawn_mask = cv2.threshold(gray_image, 50, 255, cv2.THRESH_BINARY_INV)\n",
    "_, template_mask = cv2.threshold(gray_template, 50, 255, cv2.THRESH_BINARY_INV)\n",
    "\n",
    "# Проверка пересечения масок\n",
    "intersection_mask = np.logical_and(drawn_mask, template_mask)\n",
    "\n",
    "# Получение количества пикселей пересечения\n",
    "intersection_pixels_count = np.count_nonzero(intersection_mask)\n",
    "\n",
    "# Получение количества пикселей в нарисованной маске\n",
    "drawn_pixels_count = np.count_nonzero(drawn_mask)\n",
    "\n",
    "# Вывод результатов\n",
    "print(f\"Количество пикселей в пересечении: {intersection_pixels_count}\")\n",
    "print(f\"Общее количество пикселей в нарисованной маске: {drawn_pixels_count}\")"
   ]
  },
  {
   "cell_type": "code",
   "execution_count": 54,
   "id": "e47c1674",
   "metadata": {},
   "outputs": [],
   "source": [
    "cv2.imshow('Matches', template_mask)\n",
    "cv2.waitKey(0)\n",
    "cv2.destroyAllWindows()"
   ]
  },
  {
   "cell_type": "code",
   "execution_count": 279,
   "id": "43a1cf8c",
   "metadata": {},
   "outputs": [
    {
     "data": {
      "text/plain": [
       "0.5521039603960396"
      ]
     },
     "execution_count": 279,
     "metadata": {},
     "output_type": "execute_result"
    }
   ],
   "source": [
    "# Процент на сколько обведен рисунок\n",
    "intersection_pixels_count/drawn_pixels_count"
   ]
  },
  {
   "cell_type": "code",
   "execution_count": 2,
   "id": "6cd4adda",
   "metadata": {
    "scrolled": true
   },
   "outputs": [
    {
     "name": "stdout",
     "output_type": "stream",
     "text": [
      "(800, 533)\n",
      "(300, 300)\n"
     ]
    }
   ],
   "source": [
    "from PIL import Image, ImageOps\n",
    "\n",
    "\n",
    "def padding(img, expected_size):\n",
    "    desired_size = expected_size\n",
    "    delta_width = desired_size[0] - img.size[0]\n",
    "    delta_height = desired_size[1] - img.size[1]\n",
    "    pad_width = delta_width // 2\n",
    "    pad_height = delta_height // 2\n",
    "    padding = (pad_width, pad_height, delta_width - pad_width, delta_height - pad_height)\n",
    "    return ImageOps.expand(img, padding)\n",
    "\n",
    "\n",
    "def resize_with_padding(img, expected_size):\n",
    "    img.thumbnail((expected_size[0], expected_size[1]))\n",
    "    # print(img.size)\n",
    "    delta_width = expected_size[0] - img.size[0]\n",
    "    delta_height = expected_size[1] - img.size[1]\n",
    "    pad_width = delta_width // 2\n",
    "    pad_height = delta_height // 2\n",
    "    padding = (pad_width, pad_height, delta_width - pad_width, delta_height - pad_height)\n",
    "    return ImageOps.expand(img, padding)\n",
    "\n",
    "\n",
    "if __name__ == \"__main__\":\n",
    "    img = Image.open(\"SimbirSoft.png\")\n",
    "    print(img.size)\n",
    "    img = resize_with_padding(img, (300, 300))\n",
    "    print(img.size)\n",
    "    img.show()\n",
    "    img.save(\"resized_simbir.png\")"
   ]
  },
  {
   "cell_type": "code",
   "execution_count": 1,
   "id": "8ce97ee3",
   "metadata": {},
   "outputs": [],
   "source": [
    "import cv2\n",
    "import numpy as np"
   ]
  },
  {
   "cell_type": "code",
   "execution_count": 271,
   "id": "a4e5ea13",
   "metadata": {},
   "outputs": [],
   "source": [
    "img1 = cv2.imread('fish.png')\n",
    "img2 = cv2.imread('../test_img2.jpg')\n",
    "constant= cv2.copyMakeBorder(img1,250,200,200,200,cv2.BORDER_CONSTANT,value=(255,255,255))"
   ]
  },
  {
   "cell_type": "code",
   "execution_count": 272,
   "id": "b854aa4a",
   "metadata": {},
   "outputs": [],
   "source": [
    "img1 = cv2.resize(constant, (636, 471))"
   ]
  },
  {
   "cell_type": "code",
   "execution_count": 141,
   "id": "fe91c963",
   "metadata": {},
   "outputs": [
    {
     "data": {
      "text/plain": [
       "(471, 636, 3)"
      ]
     },
     "execution_count": 141,
     "metadata": {},
     "output_type": "execute_result"
    }
   ],
   "source": [
    "img1.shape"
   ]
  },
  {
   "cell_type": "code",
   "execution_count": null,
   "id": "f9bb1b8b",
   "metadata": {},
   "outputs": [],
   "source": []
  },
  {
   "cell_type": "code",
   "execution_count": 273,
   "id": "3a5dda06",
   "metadata": {},
   "outputs": [],
   "source": [
    "alpha = 0.2\n",
    "beta = (1.0 - alpha)\n",
    "\n",
    "dst = cv2.addWeighted(img1, alpha, img2.astype(np.uint8), beta, 0.0)"
   ]
  },
  {
   "cell_type": "code",
   "execution_count": 173,
   "id": "21c68bd5",
   "metadata": {},
   "outputs": [],
   "source": [
    "img1 = cv2.imread('simbir_save.jpg')\n",
    "img1 = img1[150:325, 114:400]"
   ]
  },
  {
   "cell_type": "code",
   "execution_count": 264,
   "id": "0185ad98",
   "metadata": {},
   "outputs": [],
   "source": [
    "img1 = img1[95:390, 110:520]"
   ]
  },
  {
   "cell_type": "code",
   "execution_count": 274,
   "id": "e3780b23",
   "metadata": {},
   "outputs": [],
   "source": [
    "# Выводим изображение с обнаруженными соответствиями\n",
    "\n",
    "# create a window\n",
    "cv2.namedWindow('Matches')\n",
    "\n",
    "# bind the callback function to window\n",
    "cv2.setMouseCallback('Matches', click_event)\n",
    "\n",
    "cv2.imshow('Matches', dst)\n",
    "\n",
    "\n",
    "cv2.waitKey(0)\n",
    "cv2.destroyAllWindows()"
   ]
  },
  {
   "cell_type": "code",
   "execution_count": 19,
   "id": "3231cd92",
   "metadata": {},
   "outputs": [
    {
     "name": "stdout",
     "output_type": "stream",
     "text": [
      "(400, 400, 3)\n"
     ]
    }
   ],
   "source": [
    "print(constant.shape)"
   ]
  },
  {
   "cell_type": "code",
   "execution_count": 275,
   "id": "3e095f5b",
   "metadata": {},
   "outputs": [
    {
     "data": {
      "text/plain": [
       "True"
      ]
     },
     "execution_count": 275,
     "metadata": {},
     "output_type": "execute_result"
    }
   ],
   "source": [
    "cv2.imwrite('resized_img.png', img1)"
   ]
  },
  {
   "cell_type": "code",
   "execution_count": 126,
   "id": "645c3557",
   "metadata": {},
   "outputs": [],
   "source": [
    "img = cv2.imread('../test_img.jpg')\n",
    "matrix = np.zeros((480,640,3), dtype = np.uint8)\n",
    "\n",
    "header = cv2.imread('window.png')\n",
    "header = cv2.resize(header, ( 640, 480))"
   ]
  },
  {
   "cell_type": "code",
   "execution_count": 127,
   "id": "76c120fb",
   "metadata": {},
   "outputs": [],
   "source": [
    "header = header[0:84, 0:640]\n",
    "img[0:84, 0:640] = header"
   ]
  },
  {
   "cell_type": "code",
   "execution_count": 128,
   "id": "3f1b3192",
   "metadata": {},
   "outputs": [],
   "source": [
    "header = header[0:84, 0:640].astype(np.uint8)\n",
    "matrix[0:84, 0:640] = header"
   ]
  },
  {
   "cell_type": "code",
   "execution_count": 117,
   "id": "ea5beaeb",
   "metadata": {},
   "outputs": [
    {
     "data": {
      "text/plain": [
       "array([[251., 108.,  22.],\n",
       "       [251., 108.,  22.],\n",
       "       [251., 108.,  22.],\n",
       "       ...,\n",
       "       [251., 108.,  22.],\n",
       "       [251., 108.,  22.],\n",
       "       [251., 108.,  22.]])"
      ]
     },
     "execution_count": 117,
     "metadata": {},
     "output_type": "execute_result"
    }
   ],
   "source": [
    "matrix[0]"
   ]
  },
  {
   "cell_type": "code",
   "execution_count": 118,
   "id": "8082b1b6",
   "metadata": {},
   "outputs": [
    {
     "data": {
      "text/plain": [
       "array([[251, 108,  22],\n",
       "       [251, 108,  22],\n",
       "       [251, 108,  22],\n",
       "       ...,\n",
       "       [251, 108,  22],\n",
       "       [251, 108,  22],\n",
       "       [251, 108,  22]], dtype=uint8)"
      ]
     },
     "execution_count": 118,
     "metadata": {},
     "output_type": "execute_result"
    }
   ],
   "source": [
    "img[0]"
   ]
  },
  {
   "cell_type": "code",
   "execution_count": 129,
   "id": "8a935b20",
   "metadata": {},
   "outputs": [],
   "source": [
    "cv2.imshow('Matches', matrix)\n",
    "cv2.waitKey(0)\n",
    "cv2.destroyAllWindows()"
   ]
  },
  {
   "cell_type": "code",
   "execution_count": 5,
   "id": "a5d7b1ba",
   "metadata": {},
   "outputs": [
    {
     "data": {
      "text/plain": [
       "(471, 636, 3)"
      ]
     },
     "execution_count": 5,
     "metadata": {},
     "output_type": "execute_result"
    }
   ],
   "source": [
    "header.shape"
   ]
  },
  {
   "cell_type": "code",
   "execution_count": 7,
   "id": "ca5333c2",
   "metadata": {},
   "outputs": [
    {
     "data": {
      "text/plain": [
       "(480, 640, 3)"
      ]
     },
     "execution_count": 7,
     "metadata": {},
     "output_type": "execute_result"
    }
   ],
   "source": [
    "img.shape"
   ]
  },
  {
   "cell_type": "code",
   "execution_count": null,
   "id": "bae8fe0b",
   "metadata": {},
   "outputs": [],
   "source": []
  },
  {
   "cell_type": "code",
   "execution_count": 101,
   "id": "00c60ae1",
   "metadata": {},
   "outputs": [],
   "source": [
    "img = cv2.imread(\"0_full.jpg\")\n",
    "\n",
    "img = img[190:505, 235:700]"
   ]
  },
  {
   "cell_type": "code",
   "execution_count": 102,
   "id": "fbe47077",
   "metadata": {},
   "outputs": [],
   "source": [
    "cv2.imshow('Matches', img)\n",
    "cv2.waitKey(0)\n",
    "cv2.destroyAllWindows()"
   ]
  },
  {
   "cell_type": "code",
   "execution_count": 103,
   "id": "8f0ed067",
   "metadata": {},
   "outputs": [
    {
     "data": {
      "text/plain": [
       "True"
      ]
     },
     "execution_count": 103,
     "metadata": {},
     "output_type": "execute_result"
    }
   ],
   "source": [
    "cv2.imwrite(\"new__tamplate.jpg\", img)"
   ]
  },
  {
   "cell_type": "code",
   "execution_count": null,
   "id": "6a5955dd",
   "metadata": {},
   "outputs": [],
   "source": []
  }
 ],
 "metadata": {
  "kernelspec": {
   "display_name": "Python 3 (ipykernel)",
   "language": "python",
   "name": "python3"
  },
  "language_info": {
   "codemirror_mode": {
    "name": "ipython",
    "version": 3
   },
   "file_extension": ".py",
   "mimetype": "text/x-python",
   "name": "python",
   "nbconvert_exporter": "python",
   "pygments_lexer": "ipython3",
   "version": "3.11.8"
  }
 },
 "nbformat": 4,
 "nbformat_minor": 5
}
