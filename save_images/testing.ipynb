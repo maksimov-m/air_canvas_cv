{
 "cells": [
  {
   "cell_type": "code",
   "execution_count": 13,
   "id": "f782459a",
   "metadata": {},
   "outputs": [
    {
     "name": "stdout",
     "output_type": "stream",
     "text": [
      "Найдено 1 соответствий.\n"
     ]
    }
   ],
   "source": [
    "import cv2\n",
    "import numpy as np\n",
    "\n",
    "# Загрузка изображения рисунка и шаблона\n",
    "image = cv2.imread('0.jpg')  # Путь к вашему изображению рисунка\n",
    "template = cv2.imread('template.jpg')  # Путь к вашему изображению шаблона\n",
    "\n",
    "# Перевод изображений в оттенки серого\n",
    "gray_image = cv2.cvtColor(image, cv2.COLOR_BGR2GRAY)\n",
    "gray_template = cv2.cvtColor(template, cv2.COLOR_BGR2GRAY)\n",
    "\n",
    "# Поиск соответствия шаблона в изображении с помощью метода TM_CCOEFF_NORMED\n",
    "result = cv2.matchTemplate(gray_image, gray_template, cv2.TM_CCOEFF_NORMED)\n",
    "\n",
    "# Задаем пороговое значение для нахождения соответствия\n",
    "threshold = 0.3\n",
    "loc = np.where(result >= threshold)\n",
    "\n",
    "# Рисуем прямоугольники вокруг областей, где найдено соответствие\n",
    "for pt in zip(*loc[::-1]):\n",
    "    image = cv2.rectangle(image, pt, (pt[0] + template.shape[1], pt[1] + template.shape[0]), (0, 255, 0), 2)\n",
    "\n",
    "# Выводим изображение с обнаруженными соответствиями\n",
    "cv2.imshow('Matches', result)\n",
    "cv2.waitKey(0)\n",
    "cv2.destroyAllWindows()\n",
    "\n",
    "# Выводим количество обнаруженных соответствий\n",
    "print(f\"Найдено {len(loc[0])} соответствий.\")"
   ]
  },
  {
   "cell_type": "code",
   "execution_count": 12,
   "id": "766b62cd",
   "metadata": {},
   "outputs": [
    {
     "data": {
      "text/plain": [
       "array([[0.38713208]], dtype=float32)"
      ]
     },
     "execution_count": 12,
     "metadata": {},
     "output_type": "execute_result"
    }
   ],
   "source": [
    "result"
   ]
  },
  {
   "cell_type": "code",
   "execution_count": 82,
   "id": "58effbe6",
   "metadata": {},
   "outputs": [
    {
     "name": "stdout",
     "output_type": "stream",
     "text": [
      "Количество пикселей в пересечении: 0\n",
      "Общее количество пикселей в нарисованной маске: 730\n"
     ]
    }
   ],
   "source": [
    "import cv2\n",
    "import numpy as np\n",
    "\n",
    "# Загрузка изображения рисунка и шаблона\n",
    "image = cv2.imread('0.jpg')  # Путь к вашему изображению рисунка\n",
    "template = cv2.imread('template_simbir.jpg')  # Путь к вашему изображению шаблона\n",
    "\n",
    "# Преобразование изображений в оттенки серого\n",
    "gray_image = cv2.cvtColor(image, cv2.COLOR_BGR2GRAY)\n",
    "gray_template = cv2.cvtColor(template, cv2.COLOR_BGR2GRAY)\n",
    "\n",
    "# Создание маски изображения рисунка и шаблона\n",
    "_, drawn_mask = cv2.threshold(gray_image, 50, 255, cv2.THRESH_BINARY_INV)\n",
    "_, template_mask = cv2.threshold(gray_template, 50, 255, cv2.THRESH_BINARY_INV)\n",
    "\n",
    "# Проверка пересечения масок\n",
    "intersection_mask = np.logical_and(drawn_mask, template_mask)\n",
    "\n",
    "# Получение количества пикселей пересечения\n",
    "intersection_pixels_count = np.count_nonzero(intersection_mask)\n",
    "\n",
    "# Получение количества пикселей в нарисованной маске\n",
    "drawn_pixels_count = np.count_nonzero(drawn_mask)\n",
    "\n",
    "# Вывод результатов\n",
    "print(f\"Количество пикселей в пересечении: {intersection_pixels_count}\")\n",
    "print(f\"Общее количество пикселей в нарисованной маске: {drawn_pixels_count}\")"
   ]
  },
  {
   "cell_type": "code",
   "execution_count": 54,
   "id": "e47c1674",
   "metadata": {},
   "outputs": [],
   "source": [
    "cv2.imshow('Matches', template_mask)\n",
    "cv2.waitKey(0)\n",
    "cv2.destroyAllWindows()"
   ]
  },
  {
   "cell_type": "code",
   "execution_count": 80,
   "id": "43a1cf8c",
   "metadata": {},
   "outputs": [
    {
     "data": {
      "text/plain": [
       "0.9881438756709124"
      ]
     },
     "execution_count": 80,
     "metadata": {},
     "output_type": "execute_result"
    }
   ],
   "source": [
    "intersection_pixels_count/drawn_pixels_count"
   ]
  },
  {
   "cell_type": "code",
   "execution_count": 2,
   "id": "6cd4adda",
   "metadata": {
    "scrolled": true
   },
   "outputs": [
    {
     "name": "stdout",
     "output_type": "stream",
     "text": [
      "(800, 533)\n",
      "(300, 300)\n"
     ]
    }
   ],
   "source": [
    "from PIL import Image, ImageOps\n",
    "\n",
    "\n",
    "def padding(img, expected_size):\n",
    "    desired_size = expected_size\n",
    "    delta_width = desired_size[0] - img.size[0]\n",
    "    delta_height = desired_size[1] - img.size[1]\n",
    "    pad_width = delta_width // 2\n",
    "    pad_height = delta_height // 2\n",
    "    padding = (pad_width, pad_height, delta_width - pad_width, delta_height - pad_height)\n",
    "    return ImageOps.expand(img, padding)\n",
    "\n",
    "\n",
    "def resize_with_padding(img, expected_size):\n",
    "    img.thumbnail((expected_size[0], expected_size[1]))\n",
    "    # print(img.size)\n",
    "    delta_width = expected_size[0] - img.size[0]\n",
    "    delta_height = expected_size[1] - img.size[1]\n",
    "    pad_width = delta_width // 2\n",
    "    pad_height = delta_height // 2\n",
    "    padding = (pad_width, pad_height, delta_width - pad_width, delta_height - pad_height)\n",
    "    return ImageOps.expand(img, padding)\n",
    "\n",
    "\n",
    "if __name__ == \"__main__\":\n",
    "    img = Image.open(\"SimbirSoft.png\")\n",
    "    print(img.size)\n",
    "    img = resize_with_padding(img, (300, 300))\n",
    "    print(img.size)\n",
    "    img.show()\n",
    "    img.save(\"resized_simbir.png\")"
   ]
  },
  {
   "cell_type": "code",
   "execution_count": 6,
   "id": "8ce97ee3",
   "metadata": {},
   "outputs": [],
   "source": [
    "import cv2\n",
    "import numpy as np"
   ]
  },
  {
   "cell_type": "code",
   "execution_count": 21,
   "id": "a4e5ea13",
   "metadata": {},
   "outputs": [],
   "source": [
    "img1 = cv2.imread('SimbirSoft.png')\n",
    "img2 = cv2.imread('../test_img2.jpg')\n",
    "constant= cv2.copyMakeBorder(img1,150,150,150,150,cv2.BORDER_CONSTANT,value=(0,0,0))"
   ]
  },
  {
   "cell_type": "code",
   "execution_count": 22,
   "id": "9329bd06",
   "metadata": {},
   "outputs": [],
   "source": [
    "img1 = cv2.resize(constant, (636, 471)) \n",
    "#img2 = cv2.resize(img2, (636, 471)) "
   ]
  },
  {
   "cell_type": "code",
   "execution_count": 27,
   "id": "3a5dda06",
   "metadata": {},
   "outputs": [],
   "source": [
    "\n",
    "alpha = 0.5\n",
    "beta = (1.0 - alpha)\n",
    "\n",
    "dst = cv2.addWeighted(img1, alpha, img2.astype(np.uint8), beta, 0.0)"
   ]
  },
  {
   "cell_type": "code",
   "execution_count": 71,
   "id": "21c68bd5",
   "metadata": {},
   "outputs": [],
   "source": [
    "img1 = cv2.imread('simbir_save.jpg')\n",
    "img1 = img1[150:325, 235:400]"
   ]
  },
  {
   "cell_type": "code",
   "execution_count": 73,
   "id": "e3780b23",
   "metadata": {},
   "outputs": [],
   "source": [
    "# Выводим изображение с обнаруженными соответствиями\n",
    "cv2.imshow('Matches', img1)\n",
    "cv2.waitKey(0)\n",
    "cv2.destroyAllWindows()"
   ]
  },
  {
   "cell_type": "code",
   "execution_count": 19,
   "id": "3231cd92",
   "metadata": {},
   "outputs": [
    {
     "name": "stdout",
     "output_type": "stream",
     "text": [
      "(400, 400, 3)\n"
     ]
    }
   ],
   "source": [
    "print(constant.shape)"
   ]
  },
  {
   "cell_type": "code",
   "execution_count": 74,
   "id": "3e095f5b",
   "metadata": {},
   "outputs": [
    {
     "data": {
      "text/plain": [
       "True"
      ]
     },
     "execution_count": 74,
     "metadata": {},
     "output_type": "execute_result"
    }
   ],
   "source": [
    "cv2.imwrite('template_simbir.jpg', img1)"
   ]
  },
  {
   "cell_type": "code",
   "execution_count": null,
   "id": "645c3557",
   "metadata": {},
   "outputs": [],
   "source": []
  }
 ],
 "metadata": {
  "kernelspec": {
   "display_name": "Python 3 (ipykernel)",
   "language": "python",
   "name": "python3"
  },
  "language_info": {
   "codemirror_mode": {
    "name": "ipython",
    "version": 3
   },
   "file_extension": ".py",
   "mimetype": "text/x-python",
   "name": "python",
   "nbconvert_exporter": "python",
   "pygments_lexer": "ipython3",
   "version": "3.11.8"
  }
 },
 "nbformat": 4,
 "nbformat_minor": 5
}
